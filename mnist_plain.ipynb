{
 "cells": [
  {
   "cell_type": "code",
   "execution_count": 1,
   "id": "bdd92d50",
   "metadata": {
    "ExecuteTime": {
     "end_time": "2022-08-10T18:23:48.395429Z",
     "start_time": "2022-08-10T18:23:31.946491Z"
    }
   },
   "outputs": [
    {
     "name": "stderr",
     "output_type": "stream",
     "text": [
      "/data0/matthew/Software/NCSA/HAL_Projects/tf_estimator_tests/estimator_test_venv/lib/python3.8/site-packages/tqdm/auto.py:22: TqdmWarning: IProgress not found. Please update jupyter and ipywidgets. See https://ipywidgets.readthedocs.io/en/stable/user_install.html\n",
      "  from .autonotebook import tqdm as notebook_tqdm\n"
     ]
    }
   ],
   "source": [
    "import tensorflow as tf\n",
    "import tensorflow_datasets as tfds"
   ]
  },
  {
   "cell_type": "code",
   "execution_count": 2,
   "id": "b4e3bf95",
   "metadata": {
    "ExecuteTime": {
     "end_time": "2022-08-10T18:23:48.612231Z",
     "start_time": "2022-08-10T18:23:48.397144Z"
    }
   },
   "outputs": [],
   "source": [
    "gpus = tf.config.list_physical_devices('GPU')\n",
    "if len(gpus) > 1:\n",
    "    tf.config.set_visible_devices(gpus[1], 'GPU')"
   ]
  },
  {
   "cell_type": "code",
   "execution_count": 3,
   "id": "fc52e13c",
   "metadata": {
    "ExecuteTime": {
     "end_time": "2022-08-10T18:23:51.020545Z",
     "start_time": "2022-08-10T18:23:48.614217Z"
    }
   },
   "outputs": [
    {
     "name": "stderr",
     "output_type": "stream",
     "text": [
      "2022-08-10 13:23:50.424544: I tensorflow/core/common_runtime/gpu/gpu_device.cc:1525] Created device /job:localhost/replica:0/task:0/device:GPU:0 with 7369 MB memory:  -> device: 1, name: NVIDIA GeForce GTX 1080, pci bus id: 0000:03:00.0, compute capability: 6.1\n"
     ]
    }
   ],
   "source": [
    "(ds_train, ds_test), ds_info = tfds.load(\n",
    "    'mnist',\n",
    "    split=['train', 'test'],\n",
    "    shuffle_files=True,\n",
    "    as_supervised=True,\n",
    "    with_info=True)"
   ]
  },
  {
   "cell_type": "code",
   "execution_count": 4,
   "id": "c3aa3285",
   "metadata": {
    "ExecuteTime": {
     "end_time": "2022-08-10T18:23:51.026370Z",
     "start_time": "2022-08-10T18:23:51.022944Z"
    }
   },
   "outputs": [],
   "source": [
    "def normalize_img(image, label):\n",
    "    return tf.cast(image, tf.float32) / 255., label"
   ]
  },
  {
   "cell_type": "code",
   "execution_count": 5,
   "id": "3817c740",
   "metadata": {
    "ExecuteTime": {
     "end_time": "2022-08-10T18:23:51.077641Z",
     "start_time": "2022-08-10T18:23:51.029107Z"
    }
   },
   "outputs": [],
   "source": [
    "ds_train = ds_train.map(\n",
    "    normalize_img, num_parallel_calls=tf.data.experimental.AUTOTUNE)\n",
    "ds_train = ds_train.cache()\n",
    "ds_train = ds_train.shuffle(ds_info.splits['train'].num_examples)\n",
    "ds_train = ds_train.batch(128)\n",
    "ds_train = ds_train.prefetch(tf.data.experimental.AUTOTUNE)"
   ]
  },
  {
   "cell_type": "code",
   "execution_count": 6,
   "id": "82bd78c7",
   "metadata": {
    "ExecuteTime": {
     "end_time": "2022-08-10T18:23:51.090013Z",
     "start_time": "2022-08-10T18:23:51.079070Z"
    }
   },
   "outputs": [],
   "source": [
    "ds_test = ds_test.map(\n",
    "    normalize_img, num_parallel_calls=tf.data.experimental.AUTOTUNE)\n",
    "ds_test = ds_test.batch(128)\n",
    "ds_test = ds_test.cache()\n",
    "ds_test = ds_test.prefetch(tf.data.experimental.AUTOTUNE)"
   ]
  },
  {
   "cell_type": "code",
   "execution_count": 7,
   "id": "b7f36614",
   "metadata": {
    "ExecuteTime": {
     "end_time": "2022-08-10T18:23:51.236872Z",
     "start_time": "2022-08-10T18:23:51.091346Z"
    }
   },
   "outputs": [],
   "source": [
    "model = tf.keras.models.Sequential([\n",
    "    tf.keras.layers.Flatten(input_shape=(28,28,1)),\n",
    "    tf.keras.layers.Dense(128, activation='relu'),\n",
    "    tf.keras.layers.Dense(10)\n",
    "])"
   ]
  },
  {
   "cell_type": "code",
   "execution_count": 8,
   "id": "cbde4e34",
   "metadata": {
    "ExecuteTime": {
     "end_time": "2022-08-10T18:23:51.248250Z",
     "start_time": "2022-08-10T18:23:51.238187Z"
    }
   },
   "outputs": [],
   "source": [
    "model.compile(\n",
    "    optimizer=tf.keras.optimizers.Adam(0.001),\n",
    "    loss=tf.keras.losses.SparseCategoricalCrossentropy(from_logits=True),\n",
    "    metrics=[tf.keras.metrics.SparseCategoricalAccuracy()],\n",
    ")"
   ]
  },
  {
   "cell_type": "code",
   "execution_count": 9,
   "id": "b1af0ffc",
   "metadata": {
    "ExecuteTime": {
     "end_time": "2022-08-10T18:23:58.901768Z",
     "start_time": "2022-08-10T18:23:51.249521Z"
    }
   },
   "outputs": [
    {
     "name": "stdout",
     "output_type": "stream",
     "text": [
      "Epoch 1/6\n",
      "469/469 [==============================] - 3s 2ms/step - loss: 0.3566 - sparse_categorical_accuracy: 0.9016 - val_loss: 0.1943 - val_sparse_categorical_accuracy: 0.9431\n",
      "Epoch 2/6\n",
      "469/469 [==============================] - 1s 2ms/step - loss: 0.1629 - sparse_categorical_accuracy: 0.9540 - val_loss: 0.1343 - val_sparse_categorical_accuracy: 0.9598\n",
      "Epoch 3/6\n",
      "469/469 [==============================] - 1s 2ms/step - loss: 0.1164 - sparse_categorical_accuracy: 0.9664 - val_loss: 0.1044 - val_sparse_categorical_accuracy: 0.9677\n",
      "Epoch 4/6\n",
      "469/469 [==============================] - 1s 2ms/step - loss: 0.0900 - sparse_categorical_accuracy: 0.9743 - val_loss: 0.0966 - val_sparse_categorical_accuracy: 0.9703\n",
      "Epoch 5/6\n",
      "469/469 [==============================] - 1s 2ms/step - loss: 0.0728 - sparse_categorical_accuracy: 0.9792 - val_loss: 0.0849 - val_sparse_categorical_accuracy: 0.9730\n",
      "Epoch 6/6\n",
      "469/469 [==============================] - 1s 2ms/step - loss: 0.0603 - sparse_categorical_accuracy: 0.9826 - val_loss: 0.0807 - val_sparse_categorical_accuracy: 0.9736\n"
     ]
    },
    {
     "data": {
      "text/plain": [
       "<keras.callbacks.History at 0x7f529acaad60>"
      ]
     },
     "execution_count": 9,
     "metadata": {},
     "output_type": "execute_result"
    }
   ],
   "source": [
    "model.fit(\n",
    "    ds_train,\n",
    "    epochs=6,\n",
    "    validation_data=ds_test,\n",
    ")"
   ]
  },
  {
   "cell_type": "code",
   "execution_count": 10,
   "id": "5f2dd210",
   "metadata": {
    "ExecuteTime": {
     "end_time": "2022-08-10T18:23:58.905754Z",
     "start_time": "2022-08-10T18:23:58.903484Z"
    }
   },
   "outputs": [],
   "source": [
    "del model"
   ]
  },
  {
   "cell_type": "code",
   "execution_count": 11,
   "id": "00084e28",
   "metadata": {
    "ExecuteTime": {
     "end_time": "2022-08-10T18:23:58.925378Z",
     "start_time": "2022-08-10T18:23:58.907033Z"
    }
   },
   "outputs": [],
   "source": [
    "del ds_test"
   ]
  },
  {
   "cell_type": "code",
   "execution_count": 12,
   "id": "bc482fa8",
   "metadata": {
    "ExecuteTime": {
     "end_time": "2022-08-10T18:23:58.977612Z",
     "start_time": "2022-08-10T18:23:58.926803Z"
    }
   },
   "outputs": [],
   "source": [
    "del ds_train\n",
    "del ds_info"
   ]
  },
  {
   "cell_type": "code",
   "execution_count": null,
   "id": "146e5cb8",
   "metadata": {},
   "outputs": [],
   "source": []
  }
 ],
 "metadata": {
  "kernelspec": {
   "display_name": "Python [conda env:estimator_test_venv]",
   "language": "python",
   "name": "conda-env-estimator_test_venv-py"
  },
  "language_info": {
   "codemirror_mode": {
    "name": "ipython",
    "version": 3
   },
   "file_extension": ".py",
   "mimetype": "text/x-python",
   "name": "python",
   "nbconvert_exporter": "python",
   "pygments_lexer": "ipython3",
   "version": "3.8.13"
  }
 },
 "nbformat": 4,
 "nbformat_minor": 5
}
